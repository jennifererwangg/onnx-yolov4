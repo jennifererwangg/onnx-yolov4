{
 "cells": [
  {
   "cell_type": "markdown",
   "metadata": {},
   "source": [
    "Clone the github repo for converting from darknet to pytorch. Afterwards, download the yolov4 cfg file and save it in the cfg folder."
   ]
  },
  {
   "cell_type": "code",
   "execution_count": 1,
   "metadata": {},
   "outputs": [
    {
     "name": "stderr",
     "output_type": "stream",
     "text": [
      "Cloning into 'yolov3'...\n"
     ]
    }
   ],
   "source": [
    "!git clone https://github.com/ultralytics/yolov3"
   ]
  },
  {
   "cell_type": "code",
   "execution_count": null,
   "metadata": {},
   "outputs": [],
   "source": [
    "# get the yolov4 cfg file and place it in the cfg folder\n",
    "\n",
    "%cd ./yolov3/cfg\n",
    "!wget -O yolov4.cfg https://drive.google.com/u/0/uc?id=1hSrVqiEbuVewEIVU4cqG-SqJFUNTYmIC --no-check-certificate"
   ]
  },
  {
   "cell_type": "markdown",
   "metadata": {},
   "source": [
    "Next, download the weights file from https://drive.google.com/u/0/uc?id=1L-SO373Udc9tPz5yLkgti5IAXFboVhUt and place it in the weights folder. Please do this step **manually** as the weights file is very large."
   ]
  },
  {
   "cell_type": "code",
   "execution_count": 8,
   "metadata": {},
   "outputs": [
    {
     "name": "stdout",
     "output_type": "stream",
     "text": [
      "Success: converted 'weights/yolov4.weights' to 'weights/yolov4.pt'\n"
     ]
    }
   ],
   "source": [
    "# %cd yolov3\n",
    "\n",
    "!python -c \"from models import *; convert('cfg/yolov4.cfg', 'weights/yolov4.weights')\""
   ]
  },
  {
   "cell_type": "markdown",
   "metadata": {},
   "source": [
    "Trying out the pytorch model"
   ]
  },
  {
   "cell_type": "code",
   "execution_count": 14,
   "metadata": {
    "scrolled": true
   },
   "outputs": [
    {
     "name": "stdout",
     "output_type": "stream",
     "text": [
      "Namespace(agnostic_nms=False, augment=False, cfg='cfg/yolov4.cfg', classes=None, conf_thres=0.3, device='', fourcc='mp4v', half=False, img_size=512, iou_thres=0.6, names='data/coco.names', output='output', save_txt=False, source='input.jpg', view_img=False, weights='weights/yolov4.pt')\n",
      "Using CPU\n",
      "\n",
      "Model Summary: 327 layers, 6.43631e+07 parameters, 6.43631e+07 gradients\n",
      "image 1/1 input.jpg: 384x512 1 bicycles, 1 trucks, 1 dogs, Done. (1.547s)\n",
      "Results saved to F:\\Users\\Jennifer\\onnx\\yolov3\\output\n",
      "Done. (1.575s)\n"
     ]
    }
   ],
   "source": [
    "!python detect.py --source input.jpg --cfg cfg/yolov4.cfg --weights weights/yolov4.pt"
   ]
  }
 ],
 "metadata": {
  "kernelspec": {
   "display_name": "Python 3",
   "language": "python",
   "name": "python3"
  },
  "language_info": {
   "codemirror_mode": {
    "name": "ipython",
    "version": 3
   },
   "file_extension": ".py",
   "mimetype": "text/x-python",
   "name": "python",
   "nbconvert_exporter": "python",
   "pygments_lexer": "ipython3",
   "version": "3.7.7"
  }
 },
 "nbformat": 4,
 "nbformat_minor": 4
}
