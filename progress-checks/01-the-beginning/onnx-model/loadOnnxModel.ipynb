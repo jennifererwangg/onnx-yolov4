{
 "cells": [
  {
   "cell_type": "code",
   "execution_count": 2,
   "metadata": {},
   "outputs": [],
   "source": [
    "import onnx\n",
    "import os\n",
    "\n",
    "# Load the ONNX model\n",
    "onnx_model = onnx.load(os.path.join('model.onnx'))\n",
    "print('The model is:\\n{}'.format(onnx_model))"
   ]
  },
  {
   "cell_type": "markdown",
   "metadata": {},
   "source": [
    "Problem: `print(onnx_model)` is supposed to print model properties, as specified [here](https://github.com/onnx/onnx/blob/master/onnx/examples/load_model.ipynb). However, nothing was printed after the cell above was executed. Even worse, the `print()` python function completely stopped working and I had to restart the kernel in order to get it working again."
   ]
  },
  {
   "cell_type": "code",
   "execution_count": 5,
   "metadata": {},
   "outputs": [],
   "source": [
    "# Check the model\n",
    "onnx.checker.check_model(onnx_model)\n",
    "print('The model is checked!')"
   ]
  }
 ],
 "metadata": {
  "kernelspec": {
   "display_name": "Python 3",
   "language": "python",
   "name": "python3"
  },
  "language_info": {
   "codemirror_mode": {
    "name": "ipython",
    "version": 3
   },
   "file_extension": ".py",
   "mimetype": "text/x-python",
   "name": "python",
   "nbconvert_exporter": "python",
   "pygments_lexer": "ipython3",
   "version": "3.7.7"
  }
 },
 "nbformat": 4,
 "nbformat_minor": 4
}
